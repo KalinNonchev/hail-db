{
 "cells": [
  {
   "cell_type": "code",
   "execution_count": 1,
   "metadata": {},
   "outputs": [],
   "source": [
    "from injest_vcf import injest_vcf\n",
    "from genotype2 import GenotypeHAIL\n",
    "from sample_anno import SampleAnnotation\n",
    "import pandas as pd\n",
    "import glob"
   ]
  },
  {
   "cell_type": "markdown",
   "metadata": {},
   "source": [
    "## Import VCFs as MatrixTables"
   ]
  },
  {
   "cell_type": "code",
   "execution_count": 2,
   "metadata": {},
   "outputs": [
    {
     "data": {
      "text/plain": [
       "884"
      ]
     },
     "execution_count": 2,
     "metadata": {},
     "output_type": "execute_result"
    }
   ],
   "source": [
    "prokisch_files = glob.glob('/s/project/variantDatabase/standardizedVcf/prokisch_latest/*.vcf.gz')\n",
    "len(prokisch_files)"
   ]
  },
  {
   "cell_type": "code",
   "execution_count": 3,
   "metadata": {},
   "outputs": [],
   "source": [
    "#injest_vcf(prokisch_files)"
   ]
  },
  {
   "cell_type": "markdown",
   "metadata": {},
   "source": [
    "# Register VCFs in SampleAnnotation"
   ]
  },
  {
   "cell_type": "code",
   "execution_count": 4,
   "metadata": {},
   "outputs": [
    {
     "data": {
      "text/html": [
       "<div>\n",
       "<style scoped>\n",
       "    .dataframe tbody tr th:only-of-type {\n",
       "        vertical-align: middle;\n",
       "    }\n",
       "\n",
       "    .dataframe tbody tr th {\n",
       "        vertical-align: top;\n",
       "    }\n",
       "\n",
       "    .dataframe thead th {\n",
       "        text-align: right;\n",
       "    }\n",
       "</style>\n",
       "<table border=\"1\" class=\"dataframe\">\n",
       "  <thead>\n",
       "    <tr style=\"text-align: right;\">\n",
       "      <th></th>\n",
       "      <th>sample_idx</th>\n",
       "      <th>file_path</th>\n",
       "      <th>file_name</th>\n",
       "      <th>sample_id</th>\n",
       "      <th>dataset</th>\n",
       "      <th>read_status</th>\n",
       "    </tr>\n",
       "  </thead>\n",
       "  <tbody>\n",
       "    <tr>\n",
       "      <th>0</th>\n",
       "      <td>1</td>\n",
       "      <td>/s/project/variantDatabase/standardizedVcf/pro...</td>\n",
       "      <td>104250</td>\n",
       "      <td>104250</td>\n",
       "      <td>None</td>\n",
       "      <td>0</td>\n",
       "    </tr>\n",
       "    <tr>\n",
       "      <th>1</th>\n",
       "      <td>2</td>\n",
       "      <td>/s/project/variantDatabase/standardizedVcf/pro...</td>\n",
       "      <td>104512</td>\n",
       "      <td>104512</td>\n",
       "      <td>None</td>\n",
       "      <td>0</td>\n",
       "    </tr>\n",
       "    <tr>\n",
       "      <th>2</th>\n",
       "      <td>3</td>\n",
       "      <td>/s/project/variantDatabase/standardizedVcf/pro...</td>\n",
       "      <td>104542</td>\n",
       "      <td>104542</td>\n",
       "      <td>None</td>\n",
       "      <td>0</td>\n",
       "    </tr>\n",
       "    <tr>\n",
       "      <th>3</th>\n",
       "      <td>4</td>\n",
       "      <td>/s/project/variantDatabase/standardizedVcf/pro...</td>\n",
       "      <td>105189</td>\n",
       "      <td>105189</td>\n",
       "      <td>None</td>\n",
       "      <td>0</td>\n",
       "    </tr>\n",
       "    <tr>\n",
       "      <th>4</th>\n",
       "      <td>5</td>\n",
       "      <td>/s/project/variantDatabase/standardizedVcf/pro...</td>\n",
       "      <td>105196</td>\n",
       "      <td>105196</td>\n",
       "      <td>None</td>\n",
       "      <td>0</td>\n",
       "    </tr>\n",
       "    <tr>\n",
       "      <th>...</th>\n",
       "      <td>...</td>\n",
       "      <td>...</td>\n",
       "      <td>...</td>\n",
       "      <td>...</td>\n",
       "      <td>...</td>\n",
       "      <td>...</td>\n",
       "    </tr>\n",
       "    <tr>\n",
       "      <th>882</th>\n",
       "      <td>883</td>\n",
       "      <td>/s/project/variantDatabase/standardizedVcf/pro...</td>\n",
       "      <td>EXT_JAP_PT1455</td>\n",
       "      <td>EXT_JAP_PT1455</td>\n",
       "      <td>None</td>\n",
       "      <td>0</td>\n",
       "    </tr>\n",
       "    <tr>\n",
       "      <th>883</th>\n",
       "      <td>884</td>\n",
       "      <td>/s/project/variantDatabase/standardizedVcf/pro...</td>\n",
       "      <td>EXT_WAR_001</td>\n",
       "      <td>EXT_WAR_001</td>\n",
       "      <td>None</td>\n",
       "      <td>0</td>\n",
       "    </tr>\n",
       "    <tr>\n",
       "      <th>884</th>\n",
       "      <td>885</td>\n",
       "      <td>/data/ouga/home/ag_gagneur/nonchev/code/varian...</td>\n",
       "      <td>test</td>\n",
       "      <td>NA00001</td>\n",
       "      <td>None</td>\n",
       "      <td>0</td>\n",
       "    </tr>\n",
       "    <tr>\n",
       "      <th>885</th>\n",
       "      <td>886</td>\n",
       "      <td>/data/ouga/home/ag_gagneur/nonchev/code/varian...</td>\n",
       "      <td>test</td>\n",
       "      <td>NA00002</td>\n",
       "      <td>None</td>\n",
       "      <td>0</td>\n",
       "    </tr>\n",
       "    <tr>\n",
       "      <th>886</th>\n",
       "      <td>887</td>\n",
       "      <td>/data/ouga/home/ag_gagneur/nonchev/code/varian...</td>\n",
       "      <td>test</td>\n",
       "      <td>NA00003</td>\n",
       "      <td>None</td>\n",
       "      <td>0</td>\n",
       "    </tr>\n",
       "  </tbody>\n",
       "</table>\n",
       "<p>887 rows × 6 columns</p>\n",
       "</div>"
      ],
      "text/plain": [
       "     sample_idx                                          file_path  \\\n",
       "0             1  /s/project/variantDatabase/standardizedVcf/pro...   \n",
       "1             2  /s/project/variantDatabase/standardizedVcf/pro...   \n",
       "2             3  /s/project/variantDatabase/standardizedVcf/pro...   \n",
       "3             4  /s/project/variantDatabase/standardizedVcf/pro...   \n",
       "4             5  /s/project/variantDatabase/standardizedVcf/pro...   \n",
       "..          ...                                                ...   \n",
       "882         883  /s/project/variantDatabase/standardizedVcf/pro...   \n",
       "883         884  /s/project/variantDatabase/standardizedVcf/pro...   \n",
       "884         885  /data/ouga/home/ag_gagneur/nonchev/code/varian...   \n",
       "885         886  /data/ouga/home/ag_gagneur/nonchev/code/varian...   \n",
       "886         887  /data/ouga/home/ag_gagneur/nonchev/code/varian...   \n",
       "\n",
       "          file_name       sample_id dataset  read_status  \n",
       "0            104250          104250    None            0  \n",
       "1            104512          104512    None            0  \n",
       "2            104542          104542    None            0  \n",
       "3            105189          105189    None            0  \n",
       "4            105196          105196    None            0  \n",
       "..              ...             ...     ...          ...  \n",
       "882  EXT_JAP_PT1455  EXT_JAP_PT1455    None            0  \n",
       "883     EXT_WAR_001     EXT_WAR_001    None            0  \n",
       "884            test         NA00001    None            0  \n",
       "885            test         NA00002    None            0  \n",
       "886            test         NA00003    None            0  \n",
       "\n",
       "[887 rows x 6 columns]"
      ]
     },
     "execution_count": 4,
     "metadata": {},
     "output_type": "execute_result"
    }
   ],
   "source": [
    "sample_anno = SampleAnnotation()\n",
    "#sample_anno.register_sample(prokisch_files)\n",
    "sample_anno.anno"
   ]
  },
  {
   "cell_type": "code",
   "execution_count": 5,
   "metadata": {},
   "outputs": [
    {
     "data": {
      "text/plain": [
       "['104250',\n",
       " '104512',\n",
       " '104542',\n",
       " '105189',\n",
       " '105196',\n",
       " '105762',\n",
       " '106196',\n",
       " '106302',\n",
       " '106593',\n",
       " '110277']"
      ]
     },
     "execution_count": 5,
     "metadata": {},
     "output_type": "execute_result"
    }
   ],
   "source": [
    "samples = sample_anno.anno['sample_id'].to_list()\n",
    "samples[:10]"
   ]
  },
  {
   "cell_type": "markdown",
   "metadata": {},
   "source": [
    "## Variants"
   ]
  },
  {
   "cell_type": "code",
   "execution_count": 6,
   "metadata": {},
   "outputs": [
    {
     "data": {
      "text/html": [
       "<div>\n",
       "<style scoped>\n",
       "    .dataframe tbody tr th:only-of-type {\n",
       "        vertical-align: middle;\n",
       "    }\n",
       "\n",
       "    .dataframe tbody tr th {\n",
       "        vertical-align: top;\n",
       "    }\n",
       "\n",
       "    .dataframe thead th {\n",
       "        text-align: right;\n",
       "    }\n",
       "</style>\n",
       "<table border=\"1\" class=\"dataframe\">\n",
       "  <thead>\n",
       "    <tr style=\"text-align: right;\">\n",
       "      <th></th>\n",
       "      <th>chrom</th>\n",
       "      <th>ref</th>\n",
       "      <th>alt</th>\n",
       "      <th>pos</th>\n",
       "    </tr>\n",
       "  </thead>\n",
       "  <tbody>\n",
       "    <tr>\n",
       "      <th>0</th>\n",
       "      <td>1</td>\n",
       "      <td>T</td>\n",
       "      <td>C</td>\n",
       "      <td>12846549</td>\n",
       "    </tr>\n",
       "    <tr>\n",
       "      <th>1</th>\n",
       "      <td>1</td>\n",
       "      <td>A</td>\n",
       "      <td>G</td>\n",
       "      <td>12846598</td>\n",
       "    </tr>\n",
       "    <tr>\n",
       "      <th>2</th>\n",
       "      <td>1</td>\n",
       "      <td>A</td>\n",
       "      <td>G</td>\n",
       "      <td>12846606</td>\n",
       "    </tr>\n",
       "    <tr>\n",
       "      <th>3</th>\n",
       "      <td>1</td>\n",
       "      <td>T</td>\n",
       "      <td>C</td>\n",
       "      <td>12846630</td>\n",
       "    </tr>\n",
       "    <tr>\n",
       "      <th>4</th>\n",
       "      <td>1</td>\n",
       "      <td>T</td>\n",
       "      <td>C</td>\n",
       "      <td>12846685</td>\n",
       "    </tr>\n",
       "  </tbody>\n",
       "</table>\n",
       "</div>"
      ],
      "text/plain": [
       "  chrom ref alt       pos\n",
       "0     1   T   C  12846549\n",
       "1     1   A   G  12846598\n",
       "2     1   A   G  12846606\n",
       "3     1   T   C  12846630\n",
       "4     1   T   C  12846685"
      ]
     },
     "execution_count": 6,
     "metadata": {},
     "output_type": "execute_result"
    }
   ],
   "source": [
    "variants = pd.read_pickle('/data/nasif12/home_if12/nonchev/code/hail-db/db/var.df')\n",
    "variants['pos'] = variants['start']\n",
    "variants = variants.drop(['start', 'end'], axis=1)\n",
    "variants[:5]"
   ]
  },
  {
   "cell_type": "markdown",
   "metadata": {},
   "source": [
    "## GenotypeHAIL"
   ]
  },
  {
   "cell_type": "code",
   "execution_count": 7,
   "metadata": {},
   "outputs": [],
   "source": [
    "gt = GenotypeHAIL()"
   ]
  },
  {
   "cell_type": "code",
   "execution_count": 8,
   "metadata": {},
   "outputs": [
    {
     "data": {
      "text/plain": [
       "885"
      ]
     },
     "execution_count": 8,
     "metadata": {},
     "output_type": "execute_result"
    }
   ],
   "source": [
    "len(gt._get_Tables_paths(samples))"
   ]
  },
  {
   "cell_type": "code",
   "execution_count": 11,
   "metadata": {},
   "outputs": [
    {
     "name": "stdout",
     "output_type": "stream",
     "text": [
      "CPU times: user 226 ms, sys: 18.4 ms, total: 245 ms\n",
      "Wall time: 6.31 s\n"
     ]
    }
   ],
   "source": [
    "%%time\n",
    "gt.get_sequencingdepth(variants, samples[0])"
   ]
  },
  {
   "cell_type": "code",
   "execution_count": 12,
   "metadata": {},
   "outputs": [
    {
     "name": "stdout",
     "output_type": "stream",
     "text": [
      "CPU times: user 598 ms, sys: 44 ms, total: 642 ms\n",
      "Wall time: 42.3 s\n"
     ]
    }
   ],
   "source": [
    "%%time\n",
    "gt.get_sequencingdepth(variants, samples[:10])"
   ]
  },
  {
   "cell_type": "code",
   "execution_count": null,
   "metadata": {},
   "outputs": [],
   "source": [
    "%%time\n",
    "gt.get_genotype(variants, samples[:100])"
   ]
  },
  {
   "cell_type": "code",
   "execution_count": null,
   "metadata": {},
   "outputs": [],
   "source": [
    "%%time\n",
    "gt.get_gtquality(variants, samples[:10]).sum()"
   ]
  },
  {
   "cell_type": "code",
   "execution_count": null,
   "metadata": {},
   "outputs": [],
   "source": [
    "%%time\n",
    "gt.get_sequencingdepth(variants, samples[:10]).sum()"
   ]
  }
 ],
 "metadata": {
  "kernelspec": {
   "display_name": "Python (hail-db)",
   "language": "python",
   "name": "hail-db"
  },
  "language_info": {
   "codemirror_mode": {
    "name": "ipython",
    "version": 3
   },
   "file_extension": ".py",
   "mimetype": "text/x-python",
   "name": "python",
   "nbconvert_exporter": "python",
   "pygments_lexer": "ipython3",
   "version": "3.7.8"
  }
 },
 "nbformat": 4,
 "nbformat_minor": 4
}
